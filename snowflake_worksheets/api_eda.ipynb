{
 "cells": [
  {
   "cell_type": "markdown",
   "id": "86c5556c",
   "metadata": {},
   "source": [
    "# EDA on jobtech API"
   ]
  },
  {
   "cell_type": "code",
   "execution_count": 21,
   "id": "edf43eaf",
   "metadata": {},
   "outputs": [
    {
     "name": "stdout",
     "output_type": "stream",
     "text": [
      " Yrkesområde: försäljning inköp marknadsföring\n",
      "- Koncern¬ekonom till Kahls Kaffe AB | Kahls Kaffe AB | Göteborg | Inget datum\n",
      "- Key Account Manager till Stena Aluminium i Älmhult | Your Talent AB | Växjö | Inget datum\n",
      "- Produktadministratör | Alentec & Orion AB | Nacka | Inget datum\n",
      "- Mekanikingenjör inom energisektorn! | Framtiden i Sverige AB | Ludvika | Inget datum\n",
      "- Max i Kalmar söker restaurangchef till vår nya enhet vid södra infarten | Max Burgers AB | Kalmar | Inget datum\n",
      "- International Key Account Manager till Stena Aluminium | Your Talent AB | Älmhult | Inget datum\n",
      "- Senior Sourcing Manager | Hi3G Access AB | Stockholm | Inget datum\n",
      "- Tjänst inom försäljning, digital marknadsföring & administration! | Epistat AB | Uppsala | Inget datum\n",
      "- Media Säljare | Nordic Netmedia & sales AB | Danderyd | Inget datum\n",
      "- Transportbilssäljare Kista | BILIA AB | Stockholm | Inget datum\n",
      "- Säljare i uppdrag av Google - Bli en del av vårt team! | VR Media International AB | Malmö | Inget datum\n",
      "- B2B-Säljare | Fast lön + Provision | IMPRESSIVE RELATIONS SWEDEN AB | Stockholm | Inget datum\n",
      "- Ekonomiassistent | A Hub AB | Linköping | Inget datum\n",
      "- Account Manager marknadsföring | Talent & Partner AB | Stockholm | Inget datum\n",
      "- Client Sucess Manager | Talent & Partner AB | Stockholm | Inget datum\n",
      "- Svensktalande Säljare sökes till Malta! (flyttpaket ingår) | Willem Kralik, Jana | None | Inget datum\n",
      "- Marknadschef till Habo Gruppen | adding PEOPLE AB | Jönköping | Inget datum\n",
      "- Key Account Manager Public Sales | J D Stenqvist AB | Åstorp | Inget datum\n",
      "- säljare Varumärkesansvarig Lynk&Co | Bilkompaniet Dalarna AB | Leksand | Inget datum\n",
      "- Mötesbokare & Säljare  Film & Reklamproduktion | NS Film AB | Upplands-Bro | Inget datum\n",
      "- Swedol Arlandastad söker Butikschef | Retail Recruitment Sverige AB | Sigtuna | Inget datum\n",
      "- Arbetsledare till vår butik i Linköping | Fören Erikshjälpen Second Handbutiker | Linköping | Inget datum\n",
      "- Sales support på heltid till Givaudan i Malmö! | Studentconsulting Sweden AB (Publ) | Malmö | Inget datum\n",
      "- Key Account Manager | Elis Textil Service AB | None | Inget datum\n",
      "- Bilförsäljare/ Varumärkesansvarig Lynk&Co | True Consulting & Recruitment Dalarna HR AB | Leksand | Inget datum\n",
      "- Sales Executive till fastighetsbolag | Heex AB | Göteborg | Inget datum\n",
      "- Säljare - Account Manager till Hitta.se Helsingborg | Säljpitch AB | Helsingborg | Inget datum\n",
      "- Flogas söker regionchef till vårt svenska försäljningsteam | Experis AB | Göteborg | Inget datum\n",
      "- Driven Marketing Manager sökes till Telekomföretag | JobYard Sverige AB | Stockholm | Inget datum\n",
      "- Business & Workplace Manager | Four Fm AB | Stockholm | Inget datum\n",
      "- SiS ungdomshem Fagared söker lärare i försäljning och service | Statens Institutionsstyrelse | Mölndal | Inget datum\n",
      "- Outbound Sales Specialist till WLA Europe AB, Lidköping | NearYou Sverige AB | Lidköping | Inget datum\n",
      "- Bilförsäljare | Bildeve AB | Helsingborg | Inget datum\n",
      "- Content Creator sökes till Telekomföretag! | JobYard Sverige AB | Stockholm | Inget datum\n",
      "- Brand Manager till Coca-Cola | Eterni Sweden AB | Haninge | Inget datum\n",
      "- Vikarierande Marknadschef | Swedavia AB | Sigtuna | Inget datum\n",
      "- Flogas söker regionchef till vårt svenska försäljningsteam | Experis AB | Växjö | Inget datum\n",
      "- Flogas söker regionchef till vårt svenska försäljningsteam | Experis AB | Jönköping | Inget datum\n",
      "- Resekonsult Fotboll, OLKA Sportresor | Resebemanning & Rekrytering Sverige AB | Göteborg | Inget datum\n",
      "- Expo Koordinator till Evertiq i Nacka | Poolia AB | Nacka | Inget datum\n",
      "- Sälj, Marknadsföring och Karriärfokus | Talent & Partner AB | Stockholm | Inget datum\n",
      "- Client Success Manager | Talent & Partner AB | Stockholm | Inget datum\n",
      "- Produktchef   | Vendico Chemicals AB | Malmö | Inget datum\n",
      "- Företagssäljare Malmö | BILIA AB | Malmö | Inget datum\n",
      "- Partner Manager | Talent & Partner AB | Stockholm | Inget datum\n",
      "- Driven och engagerad Account Manager | Talent & Partner AB | Stockholm | Inget datum\n",
      "- Vikarierande Butikschef till Ängelholm | Granngården AB | Ängelholm | Inget datum\n",
      "- Marknadskommunikatör | Buenos Aires 72 AB | Burlöv | Inget datum\n",
      "- Kundansvarig Strateg | Talent & Partner AB | Stockholm | Inget datum\n",
      "- Bilförsäljare | BILIA AB | Malmö | Inget datum\n",
      "- Marknads- och försäljningsassistent till Shortlink i Karlstad | AS&B Executive AB | Karlstad | Inget datum\n",
      "- Vikarierande arbetsledare till vår butik i Vårby | Fören Erikshjälpen Second Handbutiker | Huddinge | Inget datum\n",
      "- Projektledare möte och kongresser | Helsingborg Arena och Scen AB | Helsingborg | Inget datum\n",
      "- Säljare med fokus på relationer till Kvadrat i Östergötland | Academic Work Sweden AB | Linköping | Inget datum\n",
      "- Account Manager – hjälp företag nå ut till framtida talanger! | Lifestyle Media Partner Sverige AB | Eskilstuna | Inget datum\n",
      "- Försäljningschef Bilia Mercedes-Benz Danderyd | Starfinder AB | Danderyd | Inget datum\n",
      "- Resekonsult, OLKA Sportresor | Resebemanning & Rekrytering Sverige AB | Göteborg | Inget datum\n",
      "- Ethics and Compliance officer | SAAB AB | Linköping | Inget datum\n",
      "- Bilförsäljare | BILIA AB | Västerås | Inget datum\n",
      "- Key Account Manager inom performance marketing | Noor Digital Agency AB | Stockholm | Inget datum\n",
      "- Sales Account Manager till Mecenat | Experis AB | Göteborg | Inget datum\n",
      "- Extrajobb som säljare på en växande marknad | Ecareer AB | Mölndal | Inget datum\n",
      "- Brand Product Manager till Estrella // Göteborg | Oddwork Sweden AB | Göteborg | Inget datum\n",
      "- Säljare ansvarig för hotellkoncern | Got City Center Hotels AB | Göteborg | Inget datum\n",
      "- Studentinformatör | Vision | Stockholm | Inget datum\n",
      "- Growth Manager till framgångsrikt SaaS-bolag | Bravura Sverige AB | Linköping | Inget datum\n",
      "- Chief Commercial Officer - CCO | Oresund Drydocks AB | Landskrona | Inget datum\n",
      "- Byggprojektledare till HSB MälarDalarna | Norén & Lindholm AB | Örebro | Inget datum\n",
      "- Join BE Group’s IT Evolution – Become Our New IT Operations Specialist | Studentconsulting Sweden AB (Publ) | Norrköping | Inget datum\n",
      "- Key Account Manager till Intertek Semko | Intertek Semko AB | Stockholm | Inget datum\n",
      "- Head of Growth and Sales | UU Brand & Recruit AB | Stockholm | Inget datum\n",
      "- Marknadsansvarig Foto, film och Sociala Medier DANDERYD | Nordic Netmedia & sales AB | Danderyd | Inget datum\n",
      "- Sales-driven Talent Manager | Ecareer AB | Mölndal | Inget datum\n",
      "- Category Manager till Proteinbolaget | Proteinbolaget i Sverige AB | Stockholm | Inget datum\n",
      "- Vi söker Sveriges vassaste frukt och grönt talanger | Nacka Stormarknad AB | Nacka | Inget datum\n",
      "- Stf. Butikschef/Driftchef – Hemköp, Huddinge | Rl Future Management AB | Stockholm | Inget datum\n",
      "- Senior Key Account Manager - Göteborg | Stena Recycling AB | Göteborg | Inget datum\n",
      "- Inköpare / Innesäljare / Planerare till Intentius | Eterni Sweden AB | Växjö | Inget datum\n",
      "- Kundansvarig säljare till BE Group | Experis AB | Malmö | Inget datum\n",
      "- Sales Manager OEM till Belimo! | Experis AB | Nacka | Inget datum\n",
      "- Vi söker en hungrig säljare till vårt team i Varberg | Vincent Schafflers Husbil och Husvagn AB | Varberg | Inget datum\n",
      "- Produktionschef | Svets & Smide Karlskrona AB | Karlskrona | Inget datum\n",
      "- Spobik söker en redovisningsekonom med intresse för controlling | Ljung Kompetensförsörjning AB | Jönköping | Inget datum\n",
      "- Fabrikschef | Vinsta Texas Food Company AB | Stockholm | Inget datum\n",
      "- Production Controller till Norma Sweden AB | Stella Rekrytering och Ledarskap AB | Gislaved | Inget datum\n",
      "- Driftledare Hamra gård | Delaval International AB | Botkyrka | Inget datum\n",
      "- Strategisk inköpare | Jefferson Wells | Arboga | Experis AB | Arboga | Inget datum\n",
      "- Inköpsassistent till e-handel  i underbar fjällmiljö | BGA Group AB | Härjedalen | Inget datum\n",
      "- Kategoriansvarig - Däck, Jordbro | Prowork Bemanning AB | Stockholm | Inget datum\n",
      "- Strategisk inköpare Konsulter och Projektering | Svenska Kraftnät | Sundbyberg | Inget datum\n",
      "- Rådgivare | Södra Skogsägarna ekonomisk fören | Jönköping | Inget datum\n",
      "- Business Area Manager – Servering & Dukning | Royal Design Group AB | Stockholm | Inget datum\n",
      "- Senior IT-upphandlare – Telge Inköp | Telge Inköp AB | Södertälje | Inget datum\n",
      "- Kategoriansvarig - Däck, Jordbro | Prowork Bemanning AB | Stockholm | Inget datum\n",
      "- Account Manager | Women Ahead AB | Timrå | Inget datum\n",
      "- Vi söker strategisk inköpare till globalt teknikbolag! | Academic Work Sweden AB | Göteborg | Inget datum\n",
      "- Badvärd till Hylliebadets gym & relax | Malmö kommun | Malmö | Inget datum\n",
      "- Ordermottagare till Polyfix AB | Polyfix AB | Söderköping | Inget datum\n",
      "- Operativ ledare Café och kök till Öströö Fårfarm | Öströö Fårfarm AB | Varberg | Inget datum\n",
      "- ﻿Orderadministratör till Arninge 🧾 | Wrknest AB | Täby | Inget datum\n",
      " Yrkesområde: hälso- och sjukvård\n",
      "- Verksamhetschef Myndighet, Hälso- och sjukvård  | Tranemo kommun | Tranemo | Inget datum\n",
      "- Sjuksköterska/distriktsköterska (timvikariat), Hälso- och sjukvård | Strängnäs kommun | Strängnäs | Inget datum\n",
      "- Enhetschef för Hälso- och sjukvård | Kramfors kommun | Kramfors | Inget datum\n",
      "- Sjuksköterska inom kommunal hälso- och sjukvård | Vimmerby kommun | Vimmerby | Inget datum\n",
      "- Regional verksamhetsexpert hälso- och sjukvård, Stockholm | Kriminalvården | Stockholm | Inget datum\n",
      "- Tjänsteförvaltare, system inom socialtjänst, hälso- och sjukvård | SKÅNES KOMMUNER | Lund | Inget datum\n",
      "- Timvikarier, Sjuksköterskor till Kontor Hälso- och sjukvård  | Gävle kommun | Gävle | Inget datum\n",
      "- Verksamhetschef till Vård- och omsorgsboenden samt hälso- och sjukvård | Botkyrka kommun | Botkyrka | Inget datum\n",
      "- Enhetschef till kommunal hälso- och sjukvård stadsområde Hisingen | GÖTEBORGS KOMMUN | Göteborg | Inget datum\n",
      "- Leg. Sjuksköterska till kommunal hälso- och sjukvård i Hedemora  | AdatoCare AB | Hedemora | Inget datum\n",
      " Yrkesområde: hotell restaurang storhushåll\n",
      "- Kriminalvårdare till anstalt Asptuna, Beateberg eller säkerhetshäktet Huddi | Kriminalvården | Huddinge | Inget datum\n",
      "- Nyutexad kock? Junior kock? Fast tjänst eller deltid, du väljer. | Four Service AB | Stockholm | Inget datum\n",
      "- Kock till Restaurang Malmen i Luleå | Compass Group AB | Luleå | Inget datum\n",
      "- Kock/Måltidsbiträde timvikarie | Mjölby kommun | Mjölby | Inget datum\n",
      "- Lindesbergs kommun söker timvikarier till måltidsenheten | Lindesbergs kommun | Lindesberg | Inget datum\n",
      "- Distriktsansvarig säljare för distrikt syd och sydost | AB Superb Produkt | None | Inget datum\n",
      "- Samordnande Sjuksköterska – VO Sthlm Syd  | Kriminalvården | Stockholm | Inget datum\n",
      "- Kök - Kockar & kallskänkor till Romme Alpin | Romme Alpin AB | Borlänge | Inget datum\n",
      "- Köksbiträden och kockar - timvikarier | Vallentuna kommun | Vallentuna | Inget datum\n",
      "- Timvikarier inom måltid | Kungsbacka kommun | Kungsbacka | Inget datum\n",
      "- Timvikarier till måltidsenheten | Sotenäs kommun | Sotenäs | Inget datum\n",
      "- Lokal KAM inom Foodservice Södra Sverige | Sales Support Sweden AB | Malmö | Inget datum\n",
      "- Kockar/köksbiträden, timvikariat till Tjörns Måltids AB | Tjörns kommun | Tjörn | Inget datum\n",
      "- Serveringspersonal | Hirely AB | Malmö | Inget datum\n",
      "- Vi söker en Head Waiter  till Scandic Luleå, heltid | Scandic Hotels AB | Luleå | Inget datum\n",
      "- Köksbiträde/Kock - Home Hotel Kung Oscar i Trollhättan | Nordic Choice Commercial Services AB | Trollhättan | Inget datum\n",
      "- Kock med minst 1 års erfarenhet sökes i Skåne – jobba när det passar dig! | RA Hospitality i Norden AB | Malmö | Inget datum\n",
      "- Receptionschef till Stockholms mest fängslande hotell | Långholmen Hotell & Restaurang AB | Stockholm | Inget datum\n",
      "- Extrajobb som hotellreceptionist i Skellefteå | Skellefteå Hotell- och Konferens AB | Skellefteå | Inget datum\n",
      "- Welcome Office Agent | Nordic Choice Commercial Services AB | Örebro | Inget datum\n",
      "- Meeting & Event Host - Deltid | ESS Hotel Group AB | Härryda | Inget datum\n",
      "- Kock Säsongsarbete Åre, Duved | WMM Gastronomi AB | Åre | Inget datum\n",
      "- Housekeeping Supervisor | Nordic Choice Commercial Services AB | Östersund | Inget datum\n",
      "- Lärare karaktärsämne inriktning kök till AGY Virginska gymnasiet | Örebro kommun | Örebro | Inget datum\n",
      "- Säsongsarbete i finska Lappland – vintern 2025/2026 | Annica Wiberg AB | None | Inget datum\n",
      "- Arbetsledande kock till Östjemten i Kälarne | Bräcke kommun | Bräcke | Inget datum\n",
      "- Nykundssäljare (Hunter) på kock.in | Kock. In AB | Stockholm | Inget datum\n",
      "- Servis 75% Säsong | Hotel Fratelli AB | Karlstad | Inget datum\n",
      "- Servis 25% | Hotel Fratelli AB | Karlstad | Inget datum\n",
      "- Assistant Manager | Mister York AB | Bollnäs | Inget datum\n",
      "- Restaurangchef | Scandinavian Service Partner AB | Härryda | Inget datum\n",
      "- Första receptionist Blå Huset | Blå Huset Hotell Umeå AB | Umeå | Inget datum\n",
      "- servitris/servitör | Santorini Grill & Bar AB | Stockholm | Inget datum\n",
      "- Assistant Manager | Mister York AB | Alingsås | Inget datum\n",
      "- Housekeeping/Rumsstäd | Elite Hotels Of Sweden AB | Skellefteå | Inget datum\n",
      "- Souschef till Bistron SEB Arenastaden | Compass Group AB | Stockholm | Inget datum\n",
      "- Commercial & Service Lead till Destination Gotland | TRIB AB | Gotland | Inget datum\n",
      "- Mjölby Assistant Manager 100% | Mister York AB | Mjölby | Inget datum\n",
      "- General Manager till Activate, Göteborg | Jerrie AB | Göteborg | Inget datum\n",
      "- Restaurang Rackarbacken Södersjukhuset söker ett restaurangbiträde | REGION STOCKHOLM | Stockholm | Inget datum\n",
      "- Hotellstäd | Newton hotel AB | Stockholm | Inget datum\n",
      "- Restaurang- & Hotellchef till Sund Nergården | Cheffle AB | Trosa | Inget datum\n",
      "- Kökschef till Restaurang 270 i Södertälje | Compass Group AB | Södertälje | Inget datum\n",
      "- Restaurangbiträde | Rasta Sverige AB | Mariestad | Inget datum\n",
      "- Köksmästare sökes till spännande uppdrag 👩‍🍳 | FRAM Bemanning AB | Lund | Inget datum\n",
      "- Kock Extra 155 - 200 kr per timme 👩‍🍳 Lön dagen efter uppdrag! | FRAM Bemanning AB | Malmö | Inget datum\n",
      "- Hotellreceptionist  | AB Hotell Edström | Arvidsjaur | Inget datum\n",
      "- Service Crew Extra | CIC Operations Göteborg AB | Göteborg | Inget datum\n",
      "- Serveringspersonal | SANDVIK AB | Sandviken | Inget datum\n",
      "- Frukostmedarbetare | Storhogna Hotellfastighet AB | Berg | Inget datum\n",
      "- Hovmästare och Breakfast Host sökes till Ystad Saltsjöbad | ESS Hotel Group AB | Ystad | Inget datum\n",
      "- Biluthyrare/Bilvårdare till Hertz i Mora | First Rent A Car AB | Mora | Inget datum\n",
      "- Enhetschef till Serviceenheten Hola, Kramfors | REGION VÄSTERNORRLAND | Kramfors | Inget datum\n",
      "- Kock till Gyllene Uttern  | Jula Hotell AB | Jönköping | Inget datum\n",
      "- Jobba med kundtjänst på soliga, varma Cypern! Inkl. flyttpaket! Start 10/11 | Foundever Sweden AB | None | Inget datum\n",
      "- Arbeta med kundtjänst för ett gamingföretag på Cypern! Start 6/10 | Foundever Sweden AB | None | Inget datum\n",
      "- Jobba med kundtjänst på soliga, varma Cypern! Inkl. flyttpaket! Start 13/10 | Foundever Sweden AB | None | Inget datum\n",
      "- Jobba med kundtjänst på soliga, varma Cypern! Inkl. flyttpaket! Start 8/9 | Foundever Sweden AB | None | Inget datum\n",
      "- Köksmästare till en av våra enheter i Luleå | Compass Group AB | Luleå | Inget datum\n",
      "- Servis Extra 145 - 190 kr per timme | FRAM Bemanning AB | Göteborg | Inget datum\n",
      "- Kock till Restaurang MR Gardet i Brunna | Compass Group AB | Upplands-Bro | Inget datum\n",
      "- Assistant Manager | Mister York AB | Malmö | Inget datum\n",
      "- MAX söker biträdande restaurangchef i Vetlanda | Max Burgers AB | Vetlanda | Inget datum\n",
      "- Vi söker en Restaurangchef/Restaurant Manager till Scandic Luleå, heltid | Scandic Hotels AB | Luleå | Inget datum\n",
      "- Extra Kock vid behov till Restaurang Kossan & Kalven Arla mejeri Kallhäll | Compass Group AB | Stockholm | Inget datum\n",
      "- Serveringspersonal och Runners till extrajobb | Hirely AB | Malmö | Inget datum\n",
      "- Kock till Restaurang The Lake House i Södertälje | Compass Group AB | Södertälje | Inget datum\n",
      "- Kock till Restaurang 270 i Södertälje | Compass Group AB | Södertälje | Inget datum\n",
      "- Frukostvärdinna extra vid behov | Hotellgruppen Brommavik AB | Stockholm | Inget datum\n",
      "- Restaurangchef till Hotell Klövsjöfjäll | Klövsjöfjäll AB | Berg | Inget datum\n",
      "- Community Host på deltid till United Spaces | Inte Bara Post Bemanning AB | Stockholm | Inget datum\n",
      "- Hotellstädare till Sodexos verksamhet i Älmhult | Sodexo AB | Älmhult | Inget datum\n",
      "- Receptionist U&Me Hotel | Blå Huset Hotell Umeå AB | Umeå | Inget datum\n",
      "- Resurs med samordningsansvar Regionservice Ludvika | REGION DALARNA | Ludvika | Inget datum\n",
      "- Serveringspersonal | Torreby Slott AB | Munkedal | Inget datum\n",
      "- Student sökes till arbete inom internservice till Axis kontor i Lund! | Studentconsulting Sweden AB (Publ) | Lund | Inget datum\n",
      "- Yrkeskunnig Receptionist | Smygehus Havsbad AB | Trelleborg | Inget datum\n",
      "- Juniorkock | Jobbet.se Sverige AB | Knivsta | Inget datum\n",
      "- Växttekniker till Karlstad med omnejd | Ambius AB | Örebro | Inget datum\n",
      "- Bar supervisor | Nordic Choice Commercial Services AB | Sundsvall | Inget datum\n",
      "- Biluthyrare/Bilvårdare till Malmö/Lund | First Rent A Car AB | Malmö | Inget datum\n",
      "- Meeting & Event Coordinator | Nordic Choice Commercial Services AB | Umeå | Inget datum\n",
      "- Servicemedarbetare vikariat Vårdnära Service (lokalvård o måltidshantering) | REGION DALARNA | Falun | Inget datum\n",
      "- Kock till Kostenheten i Södertälje kommun | Södertälje kommun | Södertälje | Inget datum\n",
      "- Servis och hovmästare ☀️ Anställning omgående | M Dryck & Konsult AB | Linköping | Inget datum\n",
      "- Grillkock till Grekiskt Restaurang | Santorini Grill & Bar AB | Stockholm | Inget datum\n",
      "- Frukostvärd (helger+sommar) – First Hotel Brommaplan | Nya Flyghotellet Brommaplan AB | Stockholm | Inget datum\n",
      "- Köksmästare till Hotel Strana | Strana Hotell & Restaurang AB | Orust | Inget datum\n",
      "- MAX söker biträdande restaurangchef till vår nya enhet vid södra infarten | Max Burgers AB | Kalmar | Inget datum\n",
      "- Kock till Restaurang Z:äta  i Lundby - Göteborg | Compass Group AB | Göteborg | Inget datum\n",
      "- \"allt-i-allo\" inom hotell&restaurang - Kök, servis, rumsstäd, kassa | Rot & Råvara AB | Värmdö | Inget datum\n",
      "- Receptionist till upplevelsebolag i Vemdalen | Vemdalen Experience AB | Härjedalen | Inget datum\n",
      "- Var med på vår tillväxtresa - Framtidens bilvård börjar här | Green Clean car wash Sweden AB | Borlänge | Inget datum\n",
      "- Leverans och produktägare till rekryteringsföretaget Progressio | M Dryck & Konsult AB | Göteborg | Inget datum\n",
      "- Hotell Biträde | Hotel 2011 i Stockholm AB | Stockholm | Inget datum\n",
      "- Boston Grill servitör/servitris | Nya Sportbaren i Norrköping AB | Norrköping | Inget datum\n",
      "- Servis Extra 145 - 190 kr per timme 🤵‍♀️ För höstens uppdrag | FRAM Bemanning AB | Malmö | Inget datum\n",
      "- Säljledare - X:-tra Örkelljunga | Coop Syd AB | Örkelljunga | Inget datum\n",
      "- MAX söker biträdande restaurangchef | Max Burgers AB | Järfälla | Inget datum\n",
      "- Servitris/Servitör, Pitchers i Örebro Hösten 2025 | Frimurarholmen AB | Örebro | Inget datum\n"
     ]
    }
   ],
   "source": [
    "import requests\n",
    "import json\n",
    "\n",
    "# Bas-URL för Jobtech JobSearch API\n",
    "BASE_URL = 'https://jobsearch.api.jobtechdev.se'\n",
    "SEARCH_ENDPOINT = f\"{BASE_URL}/search\"\n",
    "\n",
    "def _get_ads(params):\n",
    "    headers = {'accept': 'application/json'}\n",
    "    response = requests.get(SEARCH_ENDPOINT, headers=headers, params=params)\n",
    "    response.raise_for_status()  # Hanterar HTTP-fel\n",
    "    return json.loads(response.content.decode('utf8'))\n",
    "\n",
    "def search_ads_for_fields(fields):\n",
    "    for field in fields:\n",
    "        print(f\" Yrkesområde: {field}\")\n",
    "        search_params = {\n",
    "            'q': field,\n",
    "            'limit': 100  # Max antal annonser per förfrågan\n",
    "        }\n",
    "        json_response = _get_ads(search_params)\n",
    "        hits = json_response.get('hits', [])\n",
    "        \n",
    "        if not hits:\n",
    "            print(\"Inga annonser hittades.\")\n",
    "            continue\n",
    "\n",
    "        for hit in hits:\n",
    "            headline = hit.get('headline', 'Ingen rubrik')\n",
    "            employer = hit.get('employer', {}).get('name', 'Okänd arbetsgivare')\n",
    "            location = hit.get('workplace_address', {}).get('municipality', 'Ingen ort')\n",
    "            published = hit.get('published', 'Inget datum')\n",
    "            print(f\"- {headline} | {employer} | {location} | {published}\")\n",
    "\n",
    "\n",
    "if __name__ == '__main__':\n",
    "    occupation_fields = [\n",
    "        'försäljning inköp marknadsföring',\n",
    "        'hälso- och sjukvård',\n",
    "        'hotell restaurang storhushåll'\n",
    "    ]\n",
    "    search_ads_for_fields(occupation_fields)"
   ]
  },
  {
   "cell_type": "code",
   "execution_count": null,
   "id": "68cac1a9",
   "metadata": {},
   "outputs": [
    {
     "name": "stdout",
     "output_type": "stream",
     "text": [
      "försäljning inköp marknadsföring: dict_keys(['total', 'positions', 'query_time_in_millis', 'result_time_in_millis', 'stats', 'freetext_concepts', 'hits'])\n",
      "hälso- och sjukvård: dict_keys(['total', 'positions', 'query_time_in_millis', 'result_time_in_millis', 'stats', 'freetext_concepts', 'hits'])\n",
      "hotell restaurang storhushåll: dict_keys(['total', 'positions', 'query_time_in_millis', 'result_time_in_millis', 'stats', 'freetext_concepts', 'hits'])\n"
     ]
    }
   ],
   "source": [
    "def print_number_of_hits(fields):\n",
    "    for field in fields:\n",
    "        search_params = {'q': field, 'limit': 0}\n",
    "        json_response = _get_ads(search_params)\n",
    "        number_of_hits = json_response.get('total', {}).get('value', 0)\n",
    "        print(f\" Yrkesområde: '{field}' → Antal annonser: {number_of_hits}\")\n",
    "\n",
    "occupation_fields = [\n",
    "    'försäljning inköp marknadsföring',\n",
    "    'hälso- och sjukvård',\n",
    "    'hotell restaurang storhushåll'\n",
    "]\n",
    "\n",
    "print_number_of_hits(occupation_fields)"
   ]
  },
  {
   "cell_type": "code",
   "execution_count": 36,
   "id": "924b00be",
   "metadata": {},
   "outputs": [
    {
     "data": {
      "text/plain": [
       "dict_keys(['total', 'positions', 'query_time_in_millis', 'result_time_in_millis', 'stats', 'freetext_concepts', 'hits'])"
      ]
     },
     "execution_count": 36,
     "metadata": {},
     "output_type": "execute_result"
    }
   ],
   "source": [
    "json_response.keys()"
   ]
  },
  {
   "cell_type": "code",
   "execution_count": 37,
   "id": "943cbda5",
   "metadata": {},
   "outputs": [
    {
     "data": {
      "text/plain": [
       "72"
      ]
     },
     "execution_count": 37,
     "metadata": {},
     "output_type": "execute_result"
    }
   ],
   "source": [
    "len(json_response[\"hits\"])"
   ]
  },
  {
   "cell_type": "code",
   "execution_count": 29,
   "id": "a0bcc412",
   "metadata": {},
   "outputs": [
    {
     "data": {
      "text/plain": [
       "dict_keys(['relevance', 'id', 'external_id', 'original_id', 'label', 'webpage_url', 'logo_url', 'headline', 'application_deadline', 'number_of_vacancies', 'description', 'employment_type', 'salary_type', 'salary_description', 'duration', 'working_hours_type', 'scope_of_work', 'access', 'employer', 'application_details', 'experience_required', 'access_to_own_car', 'driving_license_required', 'driving_license', 'occupation', 'occupation_group', 'occupation_field', 'workplace_address', 'must_have', 'nice_to_have', 'application_contacts', 'publication_date', 'last_publication_date', 'removed', 'removed_date', 'source_type', 'timestamp'])"
      ]
     },
     "execution_count": 29,
     "metadata": {},
     "output_type": "execute_result"
    }
   ],
   "source": [
    "json_response[\"hits\"][1].keys()"
   ]
  },
  {
   "cell_type": "code",
   "execution_count": 30,
   "id": "2d9c06d2",
   "metadata": {},
   "outputs": [
    {
     "data": {
      "text/plain": [
       "'JENSEN gymnasium Uppsala söker lärare i matematik/engelska'"
      ]
     },
     "execution_count": 30,
     "metadata": {},
     "output_type": "execute_result"
    }
   ],
   "source": [
    "json_response[\"hits\"][1][\"headline\"]"
   ]
  },
  {
   "cell_type": "code",
   "execution_count": 32,
   "metadata": {},
   "outputs": [
    {
     "data": {
      "text/plain": [
       "('Data Centre Engineering Operations Chief Engineer, ARN- DCEO',\n",
       " 'Amazon Data Services Sweden AB')"
      ]
     },
     "execution_count": 32,
     "metadata": {},
     "output_type": "execute_result"
    }
   ],
   "source": [
    "json_response[\"hits\"][-1][\"headline\"], json_response[\"hits\"][-1][\"employer\"][\"name\"]"
   ]
  }
 ],
 "metadata": {
  "kernelspec": {
   "display_name": "jobmarket-hr-analytics",
   "language": "python",
   "name": "python3"
  },
  "language_info": {
   "codemirror_mode": {
    "name": "ipython",
    "version": 3
   },
   "file_extension": ".py",
   "mimetype": "text/x-python",
   "name": "python",
   "nbconvert_exporter": "python",
   "pygments_lexer": "ipython3",
   "version": "3.11.11"
  }
 },
 "nbformat": 4,
 "nbformat_minor": 5
}
